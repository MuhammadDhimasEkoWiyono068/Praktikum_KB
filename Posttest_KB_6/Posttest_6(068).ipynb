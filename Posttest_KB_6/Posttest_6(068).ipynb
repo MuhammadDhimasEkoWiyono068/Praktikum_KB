{
 "cells": [
  {
   "cell_type": "markdown",
   "id": "9579ca31-1f30-4b71-9018-58cfdd34a0da",
   "metadata": {},
   "source": [
    "# **POSTTEST 6**"
   ]
  },
  {
   "cell_type": "markdown",
   "id": "2b46921e-b140-492e-a5f4-a2287e1d83d3",
   "metadata": {},
   "source": [
    "Note:\n",
    "\n",
    "Saya ganti dataset bang, dataset sebelumnya terlalu rendah r2_score-nya\n",
    "\n",
    "link : https://www.kaggle.com/datasets/whigmalwhim/steam-releases\n",
    "\n",
    "Target : 'rating'"
   ]
  },
  {
   "cell_type": "markdown",
   "id": "5efbac35-6f09-4244-96ea-758a4497630f",
   "metadata": {},
   "source": [
    "## **Import Library**"
   ]
  },
  {
   "cell_type": "code",
   "execution_count": 1,
   "id": "e9b8dcd7-a374-4a84-8136-5cbb47693183",
   "metadata": {},
   "outputs": [],
   "source": [
    "import tensorflow as tf\n",
    "from tensorflow.keras import Sequential, layers\n",
    "import pandas as pd\n",
    "import matplotlib.pyplot as plt"
   ]
  },
  {
   "cell_type": "markdown",
   "id": "e65a359e-5086-432e-9377-0634332a1a7b",
   "metadata": {},
   "source": [
    "## **Membaca data dari file CSV ke dalam DataFrame**"
   ]
  },
  {
   "cell_type": "code",
   "execution_count": 2,
   "id": "0f1b9b28-9a09-4e61-aae7-19ab9100131d",
   "metadata": {},
   "outputs": [],
   "source": [
    "df = pd.read_csv(\"game_data_all.csv\")"
   ]
  },
  {
   "cell_type": "markdown",
   "id": "bef6b27e-0121-4c5e-a5d5-cf2c0c1634fe",
   "metadata": {},
   "source": [
    "## **Split dataset menjadi train dan test**"
   ]
  },
  {
   "cell_type": "code",
   "execution_count": 3,
   "id": "58ba6842-98f4-4b91-a84b-47a4db3950ed",
   "metadata": {},
   "outputs": [],
   "source": [
    "from sklearn.model_selection import train_test_split\n",
    "\n",
    "train_df, test_df = train_test_split(df, test_size=0.2, random_state=42)"
   ]
  },
  {
   "cell_type": "markdown",
   "id": "b0eb412e-bc6d-4123-bb75-4f94cdce1d7b",
   "metadata": {},
   "source": [
    "## **Melakukan preprocessing**"
   ]
  },
  {
   "cell_type": "markdown",
   "id": "de843c45-4bae-4fc1-9f3f-059d32f7702c",
   "metadata": {},
   "source": [
    "### -Drop Kolom yang menurut saya tidak terpakai"
   ]
  },
  {
   "cell_type": "code",
   "execution_count": 4,
   "id": "ead0a293-e3de-4abb-9cb1-b0f3aba059fd",
   "metadata": {},
   "outputs": [],
   "source": [
    "df = df.drop(['link', 'Unnamed: 0', 'detected_technologies', 'store_asset_mod_time', 'store_genres'], axis=1)"
   ]
  },
  {
   "cell_type": "markdown",
   "id": "2a1f7a75-0626-4914-b172-72171adfd542",
   "metadata": {},
   "source": [
    "### -Data Cleaning"
   ]
  },
  {
   "cell_type": "markdown",
   "id": "31ab3055-34b0-428b-9e2c-321b725aa613",
   "metadata": {},
   "source": [
    "#### Sebelum"
   ]
  },
  {
   "cell_type": "code",
   "execution_count": 5,
   "id": "3d3be4d8-a9df-40bc-b53f-4bc04fca45f1",
   "metadata": {},
   "outputs": [
    {
     "data": {
      "text/plain": [
       "game                      0\n",
       "release                   0\n",
       "peak_players              0\n",
       "positive_reviews          0\n",
       "negative_reviews          0\n",
       "total_reviews             0\n",
       "rating                    0\n",
       "primary_genre            10\n",
       "publisher               442\n",
       "developer               126\n",
       "review_percentage     19804\n",
       "players_right_now         6\n",
       "24_hour_peak              6\n",
       "all_time_peak             0\n",
       "all_time_peak_date        6\n",
       "dtype: int64"
      ]
     },
     "execution_count": 5,
     "metadata": {},
     "output_type": "execute_result"
    }
   ],
   "source": [
    "df.isnull().sum()"
   ]
  },
  {
   "cell_type": "code",
   "execution_count": 6,
   "id": "1edb0314-b172-4425-a1e8-e50faed4b008",
   "metadata": {},
   "outputs": [
    {
     "name": "stdout",
     "output_type": "stream",
     "text": [
      "Jumlah total record sebelum :  67571\n"
     ]
    }
   ],
   "source": [
    "total_records = df.shape[0]\n",
    "print(\"Jumlah total record sebelum : \", total_records)"
   ]
  },
  {
   "cell_type": "markdown",
   "id": "0bc1198a-cc9b-4026-a395-92824f305d47",
   "metadata": {},
   "source": [
    "### Sesudah"
   ]
  },
  {
   "cell_type": "code",
   "execution_count": 7,
   "id": "15195dbd-5de4-465b-8111-eb6c4060e533",
   "metadata": {},
   "outputs": [
    {
     "data": {
      "text/plain": [
       "game                  0\n",
       "release               0\n",
       "peak_players          0\n",
       "positive_reviews      0\n",
       "negative_reviews      0\n",
       "total_reviews         0\n",
       "rating                0\n",
       "primary_genre         0\n",
       "publisher             0\n",
       "developer             0\n",
       "review_percentage     0\n",
       "players_right_now     0\n",
       "24_hour_peak          0\n",
       "all_time_peak         0\n",
       "all_time_peak_date    0\n",
       "dtype: int64"
      ]
     },
     "execution_count": 7,
     "metadata": {},
     "output_type": "execute_result"
    }
   ],
   "source": [
    "# Menghapus baris dengan nilai null\n",
    "df = df.dropna()\n",
    "\n",
    "df.isnull().sum()"
   ]
  },
  {
   "cell_type": "code",
   "execution_count": 8,
   "id": "3ba11003-5582-4fc6-a2d3-6bcdc8150ec0",
   "metadata": {},
   "outputs": [
    {
     "name": "stdout",
     "output_type": "stream",
     "text": [
      "Jumlah total record sesudah :  47374\n"
     ]
    }
   ],
   "source": [
    "total_records = df.shape[0]\n",
    "print(\"Jumlah total record sesudah : \", total_records)"
   ]
  },
  {
   "cell_type": "markdown",
   "id": "51bccc09-f781-49d0-87af-3963c6d1cc15",
   "metadata": {},
   "source": [
    "### -Memeriksa data duplikat"
   ]
  },
  {
   "cell_type": "code",
   "execution_count": 9,
   "id": "8d6c2c5e-1549-4bbb-93c9-dc3d15ab88ef",
   "metadata": {},
   "outputs": [
    {
     "name": "stdout",
     "output_type": "stream",
     "text": [
      "Jumlah nilai Duplikat: 0\n"
     ]
    }
   ],
   "source": [
    "print(\"Jumlah nilai Duplikat:\", df.duplicated().sum())"
   ]
  },
  {
   "cell_type": "markdown",
   "id": "b0ba8132-61cc-44c3-958c-df53e95947f6",
   "metadata": {},
   "source": [
    "## **Menggunakan sequential model**"
   ]
  },
  {
   "cell_type": "code",
   "execution_count": 10,
   "id": "397b257c-536c-4908-a2e2-beea3d65b12f",
   "metadata": {},
   "outputs": [
    {
     "name": "stdout",
     "output_type": "stream",
     "text": [
      "Epoch 1/10\n",
      "1185/1185 [==============================] - 4s 3ms/step - loss: 156.7250 - mean_absolute_error: 6.5935 - mean_squared_error: 156.7250 - val_loss: 36.6678 - val_mean_absolute_error: 4.4845 - val_mean_squared_error: 36.6678\n",
      "Epoch 2/10\n",
      "1185/1185 [==============================] - 3s 3ms/step - loss: 33.5897 - mean_absolute_error: 4.3853 - mean_squared_error: 33.5897 - val_loss: 32.3387 - val_mean_absolute_error: 4.3264 - val_mean_squared_error: 32.3387\n",
      "Epoch 3/10\n",
      "1185/1185 [==============================] - 3s 2ms/step - loss: 28.5505 - mean_absolute_error: 3.9548 - mean_squared_error: 28.5505 - val_loss: 24.2668 - val_mean_absolute_error: 3.5327 - val_mean_squared_error: 24.2668\n",
      "Epoch 4/10\n",
      "1185/1185 [==============================] - 3s 3ms/step - loss: 23.3716 - mean_absolute_error: 3.4054 - mean_squared_error: 23.3716 - val_loss: 22.4918 - val_mean_absolute_error: 3.2982 - val_mean_squared_error: 22.4918\n",
      "Epoch 5/10\n",
      "1185/1185 [==============================] - 3s 3ms/step - loss: 23.2087 - mean_absolute_error: 3.3896 - mean_squared_error: 23.2087 - val_loss: 24.4302 - val_mean_absolute_error: 3.5050 - val_mean_squared_error: 24.4302\n",
      "Epoch 6/10\n",
      "1185/1185 [==============================] - 3s 2ms/step - loss: 22.8607 - mean_absolute_error: 3.3598 - mean_squared_error: 22.8607 - val_loss: 24.2185 - val_mean_absolute_error: 3.4867 - val_mean_squared_error: 24.2185\n",
      "Epoch 7/10\n",
      "1185/1185 [==============================] - 4s 3ms/step - loss: 23.1861 - mean_absolute_error: 3.3812 - mean_squared_error: 23.1861 - val_loss: 22.8248 - val_mean_absolute_error: 3.3470 - val_mean_squared_error: 22.8248\n",
      "Epoch 8/10\n",
      "1185/1185 [==============================] - 3s 3ms/step - loss: 23.0361 - mean_absolute_error: 3.3713 - mean_squared_error: 23.0361 - val_loss: 22.7437 - val_mean_absolute_error: 3.3202 - val_mean_squared_error: 22.7437\n",
      "Epoch 9/10\n",
      "1185/1185 [==============================] - 3s 3ms/step - loss: 22.8403 - mean_absolute_error: 3.3438 - mean_squared_error: 22.8403 - val_loss: 22.4527 - val_mean_absolute_error: 3.3080 - val_mean_squared_error: 22.4527\n",
      "Epoch 10/10\n",
      "1185/1185 [==============================] - 4s 3ms/step - loss: 22.7949 - mean_absolute_error: 3.3444 - mean_squared_error: 22.7949 - val_loss: 22.3153 - val_mean_absolute_error: 3.2900 - val_mean_squared_error: 22.3153\n",
      "297/297 [==============================] - 1s 2ms/step - loss: 22.3153 - mean_absolute_error: 3.2900 - mean_squared_error: 22.3153\n",
      "Mean Absolute Error (MAE): 3.290006637573242\n",
      "Mean Squared Error (MSE): 22.315269470214844\n"
     ]
    }
   ],
   "source": [
    "model = Sequential([\n",
    "    layers.Dense(64, activation='relu', input_shape=[1]),\n",
    "    layers.Dense(32, activation='relu'),\n",
    "    layers.Dense(1, activation='linear')\n",
    "])\n",
    "\n",
    "# Kompilasi model dengan loss function MSE\n",
    "model.compile(optimizer='adam', loss='mean_squared_error', metrics=['mean_absolute_error', 'mean_squared_error'])\n",
    "\n",
    "# Mengambil fitur ('review_percentage') dan label ('rating') dari DataFrame 'df'\n",
    "game_X, game_y = df[['review_percentage']], df['rating']\n",
    "\n",
    "# Membagi dataset menjadi data pelatihan dan data pengujian\n",
    "X_train, X_test, y_train, y_test = train_test_split(\n",
    "    game_X, game_y, test_size=0.2, random_state=42\n",
    ")\n",
    "\n",
    "# Melatih model dan simpan riwayat pelatihan\n",
    "history = model.fit(X_train, y_train, epochs=10, batch_size=32, validation_data=(X_test, y_test))\n",
    "\n",
    "# Evaluasi model\n",
    "loss, mae, mse = model.evaluate(X_test, y_test)\n",
    "print(f'Mean Absolute Error (MAE): {mae}')\n",
    "print(f'Mean Squared Error (MSE): {mse}')"
   ]
  },
  {
   "cell_type": "markdown",
   "id": "b73a7484-e29c-4466-a36b-deb2486a001d",
   "metadata": {},
   "source": [
    "## **Menggunakan r2_score (dari sklearn.metrics)**"
   ]
  },
  {
   "cell_type": "code",
   "execution_count": 11,
   "id": "e79161c6-eb1b-4a40-b215-4a3fe55ea886",
   "metadata": {},
   "outputs": [
    {
     "name": "stdout",
     "output_type": "stream",
     "text": [
      "297/297 [==============================] - 1s 2ms/step\n",
      "R-squared (R2): 0.8837467634126824\n"
     ]
    }
   ],
   "source": [
    "from sklearn.metrics import r2_score\n",
    "\n",
    "# Prediksi model\n",
    "y_pred = model.predict(X_test)\n",
    "\n",
    "# Menghitung R-squared (R2)\n",
    "r2 = r2_score(y_test, y_pred)\n",
    "print(f'R-squared (R2): {r2}')"
   ]
  },
  {
   "cell_type": "markdown",
   "id": "0805c798-9045-40e3-ab3e-8700b346a72d",
   "metadata": {},
   "source": [
    "# **Membuat grafik yang menampilkan pergerakan metrik dan loss**"
   ]
  },
  {
   "cell_type": "code",
   "execution_count": 12,
   "id": "27f0bfc9-7c92-46cb-b666-142ddcc68e18",
   "metadata": {},
   "outputs": [
    {
     "data": {
      "image/png": "[encoded data removed]",
      "text/plain": [
       "<Figure size 1200x600 with 2 Axes>"
      ]
     },
     "metadata": {},
     "output_type": "display_data"
    }
   ],
   "source": [
    "# Ambil metrik pelatihan dan validasi dari riwayat\n",
    "mae = history.history['mean_absolute_error']\n",
    "val_mae = history.history['val_mean_absolute_error']\n",
    "mse = history.history['mean_squared_error']\n",
    "val_mse = history.history['val_mean_squared_error']\n",
    "\n",
    "# Ambil loss dari riwayat\n",
    "loss = history.history['loss']\n",
    "val_loss = history.history['val_loss']\n",
    "\n",
    "# Plot MAE dan Loss\n",
    "plt.figure(figsize=(12, 6))\n",
    "plt.subplot(1, 2, 1)\n",
    "plt.plot(mae, label='Training MAE')\n",
    "plt.plot(val_mae, label='Validation MAE')\n",
    "plt.xlabel('Epoch')\n",
    "plt.ylabel('Mean Absolute Error')\n",
    "plt.legend()\n",
    "\n",
    "plt.subplot(1, 2, 2)\n",
    "plt.plot(loss, label='Training Loss')\n",
    "plt.plot(val_loss, label='Validation Loss')\n",
    "plt.xlabel('Epoch')\n",
    "plt.ylabel('Loss')\n",
    "plt.legend()\n",
    "plt.show()"
   ]
  },
  {
   "cell_type": "code",
   "execution_count": null,
   "id": "f4490b2a-406b-4955-bdf8-f7a4e6edc85f",
   "metadata": {},
   "outputs": [],
   "source": []
  }
 ],
 "metadata": {
  "kernelspec": {
   "display_name": "Python 3 (ipykernel)",
   "language": "python",
   "name": "python3"
  },
  "language_info": {
   "codemirror_mode": {
    "name": "ipython",
    "version": 3
   },
   "file_extension": ".py",
   "mimetype": "text/x-python",
   "name": "python",
   "nbconvert_exporter": "python",
   "pygments_lexer": "ipython3",
   "version": "3.10.7"
  }
 },
 "nbformat": 4,
 "nbformat_minor": 5
}
